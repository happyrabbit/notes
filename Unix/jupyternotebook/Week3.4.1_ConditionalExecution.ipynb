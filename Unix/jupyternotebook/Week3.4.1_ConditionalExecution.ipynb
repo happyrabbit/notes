{
 "cells": [
  {
   "cell_type": "markdown",
   "metadata": {},
   "source": [
    "# Logic and If/Else\n",
    "\n",
    "## Conditional Execution\n",
    "\n",
    "When writing computer programs it is often useful for your program to be able to make decisions based on inputs like arguments, files and environmental variables. Bash provides mechanisms for creating logical expressions which resemble mathematical equations. These logical expressions can be evaluated until they are either true or false. In fact, true and false are both simple Bash commands! \n",
    "\n",
    "<pre>\n",
    "true\n",
    "false\n",
    "</pre>\n",
    "\n",
    "\n",
    "At first it doesn't look like they do much. In order to see how they work, we're going to need to look under the hood of Unix a little bit. Whenever you execute a program on the command line, in general one of two things will happen: either the command is executed successfully, or there's an error. In terms of errors there are many ways that a program can go wrong, and Unix can take different actions depending on what kind of error occurs. For example if I enter the name of a command that does not exist into the terminal, then I'll see an error:\n",
    "\n",
    "<pre>\n",
    "this_command_does_not_exist\n",
    "## -bash: this_command_does_not_exist: command not found\n",
    "</pre>\n",
    "\n",
    "Since that command does not exist, it creates a specific kind of error which is indicated by the program's exit status. The exit status of a program is an integer, the exit status of the last program run is stored in the question mark variable (`$?`). We can take a look at the exit status of the last program with echo:\n",
    "\n",
    "<pre>echo $?\n",
    "## 127\n",
    "</pre>\n",
    "\n",
    "The particular exit status made an indication to the shell that it should print an error message to the console. What's the exit status of a program that runs successfully? Let's take a look:\n",
    "\n",
    "<pre>\n",
    "echo I am a happy person\n",
    "## I am a happy person\n",
    "\n",
    "echo $?\n",
    "## 0\n",
    "</pre>\n",
    "\n",
    "So the exit status of a successful program is 0. Now let’s take a look at the exit statuses of true and false:\n",
    "\n",
    "<pre>\n",
    "true\n",
    "echo $?\n",
    "false\n",
    "echo $?\n",
    "\n",
    "## 0\n",
    "## 1\n",
    "</pre>\n",
    "\n",
    "As you can see true has an exit status of 0 and false has an exit status of 1. Since these programs don’t do much else, you could define true as a program that always has an exit status of 0 and false as a program that always has an exit status of 1.\n",
    "\n",
    "Knowing the exit status of these programs is important when discussing the logical operators: the AND operator (`&&`) and the OR operator (`||`). The AND and OR operators can be used for conditional execution of programs on the command line. Conditional execution occurs when the execution of one program depends on the exit status of another program. For example in the case of the AND operator, the program on the right hand side of `&&` will only be executed if the program on the left hand side of && has an exit status of 0. Let’s take a look at some small examples:\n",
    "\n",
    "<pre>\n",
    "true && echo \"Program 1 was executed.\"\n",
    "false && echo \"Program 2 was executed.\"\n",
    "\n",
    "## Program 1 was executed.\n",
    "</pre>\n",
    "\n",
    "Since false has an exit status of 1, the program echo \"Program 2 was executed.\" is not executed, so nothing is printed to the console for that command. Several AND operators can be chained together like so:\n",
    "\n",
    "<pre>\n",
    "false && true && echo Hello\n",
    "echo 1 && false && echo 3\n",
    "echo Athos && echo Porthos && echo Aramis\n",
    "\n",
    "## 1\n",
    "## Athos\n",
    "## Porthos\n",
    "## Aramis\n",
    "</pre>\n",
    "\n",
    "In a series of programs joined together by AND operators, any programs to the right of a program that has a non-zero exit status is not executed."
   ]
  },
  {
   "cell_type": "markdown",
   "metadata": {},
   "source": [
    "\n",
    "## Conditional Expressions\n",
    "\n",
    "## If and Else\n",
    "\n"
   ]
  },
  {
   "cell_type": "code",
   "execution_count": null,
   "metadata": {
    "collapsed": true
   },
   "outputs": [],
   "source": []
  }
 ],
 "metadata": {
  "kernelspec": {
   "display_name": "Python 3",
   "language": "python",
   "name": "python3"
  },
  "language_info": {
   "codemirror_mode": {
    "name": "ipython",
    "version": 3
   },
   "file_extension": ".py",
   "mimetype": "text/x-python",
   "name": "python",
   "nbconvert_exporter": "python",
   "pygments_lexer": "ipython3",
   "version": "3.6.3"
  }
 },
 "nbformat": 4,
 "nbformat_minor": 2
}
