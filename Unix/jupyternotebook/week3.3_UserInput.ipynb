{
 "cells": [
  {
   "cell_type": "markdown",
   "metadata": {},
   "source": [
    "# User Input\n",
    "\n",
    "If you are making Bash programs for you or for others to use, one way you can get user input is to specify arguments for users to provide to your program, as we discussed in the previous section. You could also ask users to type in a sting on the command line by temporarily stopping the execution of your program using the read command. Let's write a small script where you can see how the read command works:\n",
    "\n",
    "<pre>\n",
    "# Unix/files\n",
    "# File: letsread.sh \n",
    "\n",
    "echo \"Type in a string and then press Enter:\"\n",
    "read response\n",
    "echo \"You entered: $response\"\n",
    "</pre>\n",
    "\n",
    "Now let’s run this script:\n",
    "\n",
    "<pre>\n",
    "bash letsread.sh\n",
    "</pre>"
   ]
  }
 ],
 "metadata": {
  "kernelspec": {
   "display_name": "Python 3",
   "language": "python",
   "name": "python3"
  },
  "language_info": {
   "codemirror_mode": {
    "name": "ipython",
    "version": 3
   },
   "file_extension": ".py",
   "mimetype": "text/x-python",
   "name": "python",
   "nbconvert_exporter": "python",
   "pygments_lexer": "ipython3",
   "version": "3.6.3"
  }
 },
 "nbformat": 4,
 "nbformat_minor": 2
}
