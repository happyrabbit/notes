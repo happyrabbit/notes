{
 "cells": [
  {
   "cell_type": "markdown",
   "metadata": {},
   "source": [
    "# Braces\n",
    "\n",
    "Bash has a very handy tool for creating strings out of sequences called **brace expansion**. Brace expansion uses the curly brackets and two periods (`{ .. }`) to create a sequence of letters or numbers. For example to create a string with all of the numbers between zero and nine you could do the following:\n",
    "\n",
    "<pre>\n",
    "echo {0..9}\n",
    "## 0 1 2 3 4 5 6 7 8 9\n",
    "</pre>\n",
    "\n",
    "In addition to numbers you can also create sequences of letters:\n",
    "\n",
    "<pre>\n",
    "echo {a..e}\n",
    "## a b c d e\n",
    "\n",
    "echo {W..Z}\n",
    "## W X Y Z\n",
    "</pre>\n",
    "\n",
    "You can put strings on either side of the curly brackets and they’ll be “pasted” onto the corresponding end of the sequence:\n",
    "\n",
    "<pre>\n",
    "echo a{0..4}\n",
    "## a0 a1 a2 a3 a4\n",
    "\n",
    "echo b{0..4}c\n",
    "## b0c b1c b2c b3c b4c\n",
    "</pre>\n",
    "\n",
    "You can also combine sequences so that two or more sequences are pasted together:\n",
    "\n",
    "\n",
    "<pre>\n",
    "echo {1..3}{A..C}\n",
    "## 1A 1B 1C 2A 2B 2C 3A 3B 3C\n",
    "</pre>\n",
    "\n",
    "If you want to use variables in order to define a sequence you need to use the `eval` command in order to create the sequence:\n",
    "\n",
    "<pre>\n",
    "start=4\n",
    "end=9\n",
    "echo {$start..$end}\n",
    "## {4..9}\n",
    "\n",
    "eval echo {$start..$end}\n",
    "## 4 5 6 7 8 9\n",
    "</pre>\n",
    "\n",
    "You can combine sequences with a comma between brackets (`{,}`):\n",
    "\n",
    "\n",
    "<pre>\n",
    "echo {{1..3},{a..c}}\n",
    "## 1 2 3 a b c\n",
    "</pre>\n",
    "\n",
    "In fact you can do this with any number of strings:\n",
    "\n",
    "<pre>\n",
    "echo {Who,What,Why,When,How}?\n",
    "## Who? What? Why? When? How?\n",
    "</pre>\n",
    "\n",
    "## Summary\n",
    "\n",
    "- Braces allow you create string sequences and expansions.\n",
    "- To use variables with braces you need to use the `eval` command.\n"
   ]
  },
  {
   "cell_type": "code",
   "execution_count": null,
   "metadata": {
    "collapsed": true
   },
   "outputs": [],
   "source": []
  }
 ],
 "metadata": {
  "kernelspec": {
   "display_name": "Python 3",
   "language": "python",
   "name": "python3"
  },
  "language_info": {
   "codemirror_mode": {
    "name": "ipython",
    "version": 3
   },
   "file_extension": ".py",
   "mimetype": "text/x-python",
   "name": "python",
   "nbconvert_exporter": "python",
   "pygments_lexer": "ipython3",
   "version": "3.6.3"
  }
 },
 "nbformat": 4,
 "nbformat_minor": 2
}
