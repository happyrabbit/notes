{
 "cells": [
  {
   "cell_type": "markdown",
   "metadata": {},
   "source": [
    "# Self-Help\n",
    "\n",
    "Each of the commands that we’ve discussed so far are thoroughly documented, and you can view their documentation using the man command, where the first argument to man is the command you’re curious about. Let’s take a look at the documentation for ls:\n",
    "\n",
    "<pre>man ls</pre>\n",
    "\n",
    "<pre>\n",
    "LS(1)                     BSD General Commands Manual                    LS(1)\n",
    "NAME\n",
    "     ls -- list directory contents\n",
    "SYNOPSIS\n",
    "     ls [-ABCFGHLOPRSTUW@abcdefghiklmnopqrstuwx1] [file ...]\n",
    "DESCRIPTION\n",
    "     For each operand that names a file of a type other than directory, ls\n",
    "     displays its name as well as any requested, associated information.  \n",
    "</pre>\n",
    "\n",
    "The controls for navigating man pages are the same as they are for less. I often use man pages for quickly searching for an option that I’ve forgotten. Let’s say that I forgot how to get ls to print a long list. After typing man ls to open the page, **type `/` in order to start a search**. Then type the word or phrase that you’re searching for, in this case type in long list and then press Enter. The page jumps to this entry:\n",
    "\n",
    "<pre>\n",
    "-l      (The lowercase letter ``ell''.)  List in long format.  (See\n",
    "             below.)  If the output is to a terminal, a total sum for all the\n",
    "             file sizes is output on a line before the long listing.\n",
    "</pre>\n",
    "\n",
    "Press the **`n` key in order to search for the next occurrence** of the word, and if you want to **go to the previous occurrence type `Shift + n`**. This method of searching also works with less. When you’re finished looking at a man page **type `q` to get back to the prompt**.\n",
    "\n",
    "The man command works wonderfully when you know which command you want to look up, but what if you’ve forgotten the name of the command you’re looking for? You can use apropos to search all of the available commands and their descriptions. For example let’s pretend that I forgot the name of my favorite command line text editor. You could type apropos editor into the command line which will print a list of results:\n",
    "\n",
    "<pre>\n",
    "apropos editor\n",
    "\n",
    "dyld(1)                  - the dynamic link editor\n",
    "ed(1), red(1)            - text editor\n",
    "nano(1)                  - Nano's ANOther editor, an enhanced free Pico clone\n",
    "pdisk(8)                 - Apple partition table editor\n",
    "psed(1)                  - a stream editor\n",
    "sed(1)                   - stream editor\n",
    "vim(1)                   - Vi IMproved, a programmers text editor\n",
    "zshzle(1)                - zsh command line editor\n",
    "Mach-O(5)                - Mach-O assembler and link editor output\n",
    "</pre>\n",
    "\n",
    "The 3rd result is nano which was just on the tip of my tongue! Both man and apropos are useful when a search is only a few keystrokes away, but if you’re looking for detailed examples and explanations you’re better off using a search engine if you have access to a web browser.\n",
    "\n",
    "## Summary\n",
    "\n",
    "- Use `man` to look up the documentation for a command.\n",
    "- If you can’t think of the name of a command use `apropos` to search for a word associated with that command.\n",
    "- If you have access to a web browser, using a search engine might be better than `man` or `apropos`.\n"
   ]
  },
  {
   "cell_type": "code",
   "execution_count": null,
   "metadata": {
    "collapsed": true
   },
   "outputs": [],
   "source": []
  }
 ],
 "metadata": {
  "kernelspec": {
   "display_name": "SciJava",
   "language": "groovy",
   "name": "scijava"
  },
  "language_info": {
   "codemirror_mode": "groovy",
   "file_extension": "",
   "mimetype": "",
   "name": "scijava",
   "nbconverter_exporter": "",
   "pygments_lexer": "groovy",
   "version": "1.0"
  }
 },
 "nbformat": 4,
 "nbformat_minor": 0
}
