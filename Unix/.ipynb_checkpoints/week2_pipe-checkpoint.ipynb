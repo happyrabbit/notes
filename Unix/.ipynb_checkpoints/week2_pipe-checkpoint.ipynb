{
 "cells": [
  {
   "cell_type": "markdown",
   "metadata": {},
   "source": [
    "# Pipes\n",
    "\n",
    "One of the most powerful features of the command line is skilled use of the pipe (|) which you can usually find above the backslash (\\) on your keyboard. **The pipe allows us to take the output of a command, which would normally be printed to the console, and use it as the input to another command.** It’s like fitting an actual pipe between the end of one program and connecting it to the top of another program! Let’s take a look at a basic example. We know the cat command takes the contents of a text file and prints it to the console:\n",
    "\n",
    "<pre>\n",
    "cd ~/Documents\n",
    "cat canada.txt\n",
    "## Nunavut\n",
    "## Quebec\n",
    "## Northwest Territories\n",
    "## Ontario\n",
    "## British Columbia\n",
    "## Alberta\n",
    "## Saskatchewan\n",
    "## Manitoba\n",
    "## Yukon\n",
    "## Newfoundland and Labrador\n",
    "## New Brunswick\n",
    "## Nova Scotia\n",
    "## Prince Edward Island\n",
    "</pre>\n",
    "\n",
    "This output from cat canada.txt will go into our pipe, and we’ll attach the dispensing end of the pipe to head, which we use to look at the first few lines of a file:\n",
    "\n",
    "\n",
    "<pre>\n",
    "cat canada.txt | head -n 5\n",
    "Nunavut\n",
    "Quebec\n",
    "Northwest Territories\n",
    "Ontario\n",
    "British Columbia\n",
    "</pre>\n",
    "\n",
    "Notice that this is the same result we would get from head -n 5 canada.txt, we just used cat to illustrate how the pipe works. The general syntax of the pipe is `[program that produces output] | [program uses pipe output as input instead of a file]`.\n",
    "\n",
    "A more common and useful example where we could use the pipe is answering the question: “How many US states end in a vowel?” We could use grep and regular expressions to list all of the state names that end with a vowel, then we could use wc to count all of the matching state names:\n",
    "\n",
    "<pre>\n",
    "grep \"[aeiou]$\" states.txt | wc -l\n",
    "## 32\n",
    "</pre>\n",
    "\n",
    "The pipe can also be used multiple times in one command in order to take the output from one piped command and use it as the input to yet another program! For example we could use three pipes with ls, grep, and less so that we could scroll through the files in out current directory were created in February:\n",
    "\n",
    "<pre>\n",
    "ls -al | grep \"Feb\" | less\n",
    "\n",
    "## -rw-r--r--   1 sean  staff   472 Feb 22 13:47 states.txt\n",
    "</pre>\n",
    "\n",
    "Remember you can use the Q key to quit less and return to the prompt.\n",
    "\n",
    "## Summary\n",
    "\n",
    "The pipe (|) takes the output of the program on its left side and directs the output to be the input for the program on its right side."
   ]
  },
  {
   "cell_type": "code",
   "execution_count": null,
   "metadata": {
    "collapsed": true
   },
   "outputs": [],
   "source": []
  }
 ],
 "metadata": {
  "kernelspec": {
   "display_name": "Python 2",
   "language": "python",
   "name": "python2"
  },
  "language_info": {
   "codemirror_mode": {
    "name": "ipython",
    "version": 2
   },
   "file_extension": ".py",
   "mimetype": "text/x-python",
   "name": "python",
   "nbconvert_exporter": "python",
   "pygments_lexer": "ipython2",
   "version": "2.7.11"
  }
 },
 "nbformat": 4,
 "nbformat_minor": 0
}
