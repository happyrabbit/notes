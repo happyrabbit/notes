{
 "cells": [
  {
   "cell_type": "markdown",
   "metadata": {},
   "source": [
    "# Configure\n",
    "## History\n",
    "\n",
    "Near the start of this book we discussed how you can browse the commands that you recently entered into the prompt using the Up and Down arrow keys. Bash keeps track of all of your recent commands, and you can browse your command history two different ways. The commands that we’ve used since opening our terminal can be accessed via the history command. Let’s try it out:\n",
    "\n",
    "\n",
    "<pre>\n",
    "history\n",
    "</pre>\n",
    "\n",
    "Whenever we close a terminal our recent commands are written to the `~/.bash_history` file. Let’s a take a look at the beginning of this file:\n",
    "\n",
    "<pre>\n",
    "head -n 5 ~/.bash_history\n",
    "## echo \"Hello World!\"\n",
    "## pwd\n",
    "## cd\n",
    "## pwd\n",
    "## ls\n",
    "</pre>\n",
    "\n",
    "Looks like the very first commands we entered into the terminal! Searching your ~/.bash_history file can be particularly useful if you’re trying to recall a command you’ve used in the past. The ~/.bash_history file is just a regular text file, so you can search it with grep. Here’s a simple example:\n",
    "\n",
    "\n",
    "1\n",
    "2\n",
    "3\n",
    "grep \"canada\" ~/.bash_history\n",
    "## egrep \"New\" states.txt canada.txt\n"
   ]
  }
 ],
 "metadata": {
  "kernelspec": {
   "display_name": "Python 2",
   "language": "python",
   "name": "python2"
  },
  "language_info": {
   "codemirror_mode": {
    "name": "ipython",
    "version": 2
   },
   "file_extension": ".py",
   "mimetype": "text/x-python",
   "name": "python",
   "nbconvert_exporter": "python",
   "pygments_lexer": "ipython2",
   "version": "2.7.11"
  }
 },
 "nbformat": 4,
 "nbformat_minor": 0
}
