{
 "cells": [
  {
   "cell_type": "markdown",
   "metadata": {},
   "source": [
    "# Get Wild\n",
    "\n",
    "- A **wildcard** is a character that represents other characters, much like how joker in a deck of cards can represent other cards in the deck. Wildcards are a subset of metacharacters. The `*` (“star”) wildcard represents zero or more of any character, and it can be used to match names of files and folders in the command line. For example if I wanted to list all of the files in my Photos directory which have a name that starts with “2017” I could do the following:\n",
    "\n",
    "<pre>ls 2017*</pre>\n",
    "\n",
    "     `ls 2017*` literally means: list the files that start with “2017” followed by zero or more of any character. As you can imagine using wildcards is a powerful tool for working with groups of files that are similarly named."
   ]
  },
  {
   "cell_type": "markdown",
   "metadata": {},
   "source": [
    "- list the files with names ending in .jpg:\n",
    "\n",
    "<pre>ls *.jpg</pre>\n",
    "\n",
    "- list all files containing specific string:\n",
    "\n",
    "<pre> ls *first_day*</pre>\n",
    "\n",
    "- moved all files that start with “`2017-`” into the 2017 folder\n",
    "\n",
    "<pre>mv 2017-* 2017/</pre>"
   ]
  },
  {
   "cell_type": "code",
   "execution_count": null,
   "metadata": {
    "collapsed": true
   },
   "outputs": [],
   "source": []
  }
 ],
 "metadata": {
  "kernelspec": {
   "display_name": "SciJava",
   "language": "groovy",
   "name": "scijava"
  },
  "language_info": {
   "codemirror_mode": "groovy",
   "file_extension": "",
   "mimetype": "",
   "name": "scijava",
   "nbconverter_exporter": "",
   "pygments_lexer": "groovy",
   "version": "1.0"
  }
 },
 "nbformat": 4,
 "nbformat_minor": 0
}
