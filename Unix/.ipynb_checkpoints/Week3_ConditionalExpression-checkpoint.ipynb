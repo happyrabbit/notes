{
 "cells": [
  {
   "cell_type": "markdown",
   "metadata": {},
   "source": [
    "# Conditional Expressions\n",
    "\n",
    "Enabling your Bash script to make decisions is extremely useful. Conditional execution allows you to control the circumstances where certain programs are executed based on whether those programs succeed or fail, but you can also construct conditional expressions which are logical statements that are either equivalent to true or false. Conditional expressions either compare two values, or they ask a question about one value. Conditional expressions are always between double brackets (`[[]]`), and they either use logical flags or logical operators. For example, there are several logical flags you could use for comparing two integers. If we wanted to see if one integer was greater than another we could use `-gt`, the greater than flag. Enter this simple conditional expression into the command line. \n",
    "\n",
    "`[[ 8 -gt 5 ]]`\n",
    "\n",
    "The above command is asking \"is 8 greater than 5?\" No result is printed to the console so let’s check the exit status of that expression.\n",
    "\n",
    "`echo $?`  \n",
    "`## 0`\n",
    "\n",
    "The exit status of this program is 0, the same exit status as true. To quickly test the logical value of a conditional expression, we can use the AND and OR operators so that an expression will print “t” if it’s true and “f” if its false:\n",
    "\n",
    "<pre>\n",
    "[[ 8 -gt 3 ]] && echo t || echo f\n",
    "## t\n",
    "[[ 3 -gt 8 ]] && echo t || echo f\n",
    "## f\n",
    "</pre>\n",
    "\n",
    "This is a little trick you can use to quickly look at the resulting value of a logical expression.\n",
    "\n",
    "These **binary** logical expressions compare two values, but there are also **unary**logical expressions that only look at one value. For example, you can test whether or not a file exists using the `-e` logical flag. Let's take a look at this flag in action:\n",
    "\n",
    "<pre>\n",
    "# go to the folder where math.sh is stored\n",
    "\n",
    "[[ -e math.sh ]] && echo t || echo f\n",
    "## t\n",
    "</pre>\n",
    "    \n",
    "As you can see the file `math.sh` exists! Most of the time when you are writing bash scripts you won't be comparing two raw values or trying to find something out about one raw value, instead you'll want to create a logical statement about a value contained in a variable. Variables behave just like raw values in logical expressions. Let's take a look at a few examples:\n",
    "\n",
    "<pre>\n",
    "number=7\n",
    "[[ $number -gt 3 ]] && echo t || echo f\n",
    "## t\n",
    "[[ $number -gt 10 ]] && echo t || echo f\n",
    "## f\n",
    "[[ -e $number ]] && echo t || echo f\n",
    "## f\n",
    "</pre>\n",
    "\n",
    "Here is a table of other logical flags:\n",
    "\n",
    "| Logical | Flag |\tMeaning\tUsage|\n",
    "|----|-----|-------|\n",
    "| `-gt`\t| Greater Than |\t`[[ $planets -gt 8 ]]`|\n",
    "| `-ge`| Greater Than or Equal To |\t`[[ $votes -ge 270 ]]`|\n",
    "| `-eq` |\tEqual\t|`[[ $fingers -eq 10 ]]`|\n",
    "| `-ne` |\tNot Equal\t| `[[ $pages -ne 0 ]]` |\n",
    "| `-le` |\tLess Than or Equal To |\t`[[ $candles -le 9 ]]`|\n",
    "|`-lt` |\tLess Than |\t`[[ $wives -lt 2 ]]`|\n",
    "| `-e` |\tA File Exists\t| `[[ -e $taxes_2016 ]]` |\n",
    "| `-d` |\tA Directory Exists | `[[ -d $photos ]]`|\n",
    "| `-z` |\tLength of String is Zero |\t`[[ -z $name ]]` |\n",
    "|`-n` |\tLength of String is Non-Zero |\t`[[ -n $name ]]` |"
   ]
  },
  {
   "cell_type": "markdown",
   "metadata": {
    "collapsed": true
   },
   "source": [
    "In addition to **logical flags** there are also **logical operators**. One of the most useful logical operators is the regex match operator `=~`. The regex operator compares a string to a regular expression and if the string is a match for the regex then the expression is equivalent to true, false otherwise. \n",
    "\n",
    "<pre>\n",
    "[[ rhythms =~ [aeiou] ]] && echo t || echo f\n",
    "## f\n",
    "my_name=hui\n",
    "[[ $my_name =~ ^h.+i$ ]] && echo t || echo f \n",
    "## t\n",
    "</pre>\n",
    "\n",
    "There is also the NOT operator `!` which inverts the value of any conditional expression. \n",
    "\n",
    "<pre>\n",
    "[[ 7 -gt 2 ]] && echo t || echo f\n",
    "## t\n",
    "[[ ! 7 -gt 2 ]] && echo t || echo f\n",
    "## f\n",
    "</pre>\n",
    "\n",
    "Here is a table of some of the useful **logical operators**:\n",
    "\n",
    "| Logical Operator |\tMeaning |\tUsage |\n",
    "|------|-------|------|\n",
    "| `=~`\t| Matches Regular Expression |\t`[[ $consonants =~ [aeiou] ]]` |\n",
    "| `=`\t| String Equal To |\t`[[ $password = \"pegasus\" ]]`|\n",
    "| `!=` |\tString Not Equal To\t | `[[ $fruit != \"banana\" ]]` |\n",
    "| `!` |\tNot |\t`[[ ! \"apple\" =~ ^b ]]`|"
   ]
  },
  {
   "cell_type": "code",
   "execution_count": null,
   "metadata": {
    "collapsed": true
   },
   "outputs": [],
   "source": []
  }
 ],
 "metadata": {
  "kernelspec": {
   "display_name": "Python 3",
   "language": "python",
   "name": "python3"
  },
  "language_info": {
   "codemirror_mode": {
    "name": "ipython",
    "version": 3
   },
   "file_extension": ".py",
   "mimetype": "text/x-python",
   "name": "python",
   "nbconvert_exporter": "python",
   "pygments_lexer": "ipython3",
   "version": "3.6.3"
  }
 },
 "nbformat": 4,
 "nbformat_minor": 1
}
